{
 "cells": [
  {
   "cell_type": "code",
   "execution_count": 3,
   "metadata": {},
   "outputs": [],
   "source": [
    "from langchain.prompts import PromptTemplate\n",
    "\n",
    "# Prompt for extracting required skills\n",
    "skills_prompt_template = \"\"\"\n",
    "You are an expert curriculum designer. A user with the following background:\n",
    "{person_info}\n",
    "wants to accomplish the following goal:\n",
    "{goal}\n",
    "\n",
    "1. Identify the core set of skills or knowledge areas required to achieve this goal.\n",
    "2. Break these skills into logical subskills if applicable.\n",
    "3. Provide a short explanation of why each skill is necessary.\n",
    "\n",
    "Present the result in a structured JSON format with keys: 'skill', 'subskills', and 'rationale'.\n",
    "\"\"\"\n",
    "\n",
    "skills_prompt = PromptTemplate(\n",
    "    input_variables=[\"person_info\", \"goal\"],\n",
    "    template=skills_prompt_template\n",
    ")\n",
    "\n",
    "# Prompt for resource recommendations\n",
    "resources_prompt_template = \"\"\"\n",
    "You are an expert in recommending learning resources. Given the following skill:\n",
    "{skill_name}\n",
    "\n",
    "Suggest 3 to 5 high-quality resources that are beginner-friendly and relevant to mastering this skill. \n",
    "For each resource, provide:\n",
    "- resource_title\n",
    "- resource_link\n",
    "- short_description\n",
    "\n",
    "Return as a JSON list of resource objects.\n",
    "\"\"\"\n",
    "\n",
    "resources_prompt = PromptTemplate(\n",
    "    input_variables=[\"skill_name\"],\n",
    "    template=resources_prompt_template\n",
    ")\n"
   ]
  },
  {
   "cell_type": "code",
   "execution_count": 2,
   "metadata": {},
   "outputs": [
    {
     "ename": "ModuleNotFoundError",
     "evalue": "No module named 'langchain_community'",
     "output_type": "error",
     "traceback": [
      "\u001b[0;31m---------------------------------------------------------------------------\u001b[0m",
      "\u001b[0;31mModuleNotFoundError\u001b[0m                       Traceback (most recent call last)",
      "Cell \u001b[0;32mIn[2], line 2\u001b[0m\n\u001b[1;32m      1\u001b[0m \u001b[38;5;28;01mimport\u001b[39;00m\u001b[38;5;250m \u001b[39m\u001b[38;5;21;01mos\u001b[39;00m\n\u001b[0;32m----> 2\u001b[0m \u001b[38;5;28;01mfrom\u001b[39;00m\u001b[38;5;250m \u001b[39m\u001b[38;5;21;01mlangchain_community\u001b[39;00m\u001b[38;5;21;01m.\u001b[39;00m\u001b[38;5;21;01mllms\u001b[39;00m\u001b[38;5;250m \u001b[39m\u001b[38;5;28;01mimport\u001b[39;00m OpenAI\n\u001b[1;32m      3\u001b[0m \u001b[38;5;28;01mfrom\u001b[39;00m\u001b[38;5;250m \u001b[39m\u001b[38;5;21;01mlangchain\u001b[39;00m\u001b[38;5;21;01m.\u001b[39;00m\u001b[38;5;21;01mchains\u001b[39;00m\u001b[38;5;250m \u001b[39m\u001b[38;5;28;01mimport\u001b[39;00m LLMChain\n\u001b[1;32m      5\u001b[0m \u001b[38;5;66;03m# Initialize the LLM (here we use OpenAI’s model)\u001b[39;00m\n",
      "\u001b[0;31mModuleNotFoundError\u001b[0m: No module named 'langchain_community'"
     ]
    }
   ],
   "source": [
    "import os\n",
    "from langchain_community.llms import OpenAI\n",
    "from langchain.chains import LLMChain\n",
    "\n",
    "# Initialize the LLM (here we use OpenAI’s model)\n",
    "llm = OpenAI(\n",
    "    temperature=0.7, \n",
    "    model_name=\"gpt-3.5-turbo-instruct\",  # or \"gpt-3.5-turbo\" if using Chat model\n",
    ")\n",
    "\n",
    "# Create the chain for extracting skills\n",
    "skills_chain = LLMChain(\n",
    "    llm=llm,\n",
    "    prompt=skills_prompt\n",
    ")\n",
    "\n",
    "# Create the chain for resource recommendations\n",
    "resources_chain = LLMChain(\n",
    "    llm=llm,\n",
    "    prompt=resources_prompt\n",
    ")\n"
   ]
  },
  {
   "cell_type": "code",
   "execution_count": 7,
   "metadata": {},
   "outputs": [
    {
     "ename": "NameError",
     "evalue": "name 'skills_chain' is not defined",
     "output_type": "error",
     "traceback": [
      "\u001b[0;31m---------------------------------------------------------------------------\u001b[0m",
      "\u001b[0;31mNameError\u001b[0m                                 Traceback (most recent call last)",
      "Cell \u001b[0;32mIn[7], line 10\u001b[0m\n\u001b[1;32m      7\u001b[0m goal \u001b[38;5;241m=\u001b[39m \u001b[38;5;124m\"\u001b[39m\u001b[38;5;124mI want to build a modern, responsive website with user authentication and a backend.\u001b[39m\u001b[38;5;124m\"\u001b[39m\n\u001b[1;32m      9\u001b[0m \u001b[38;5;66;03m# Call the skills extraction chain\u001b[39;00m\n\u001b[0;32m---> 10\u001b[0m skills_output \u001b[38;5;241m=\u001b[39m \u001b[43mskills_chain\u001b[49m\u001b[38;5;241m.\u001b[39mrun({\n\u001b[1;32m     11\u001b[0m     \u001b[38;5;124m\"\u001b[39m\u001b[38;5;124mperson_info\u001b[39m\u001b[38;5;124m\"\u001b[39m: person_info,\n\u001b[1;32m     12\u001b[0m     \u001b[38;5;124m\"\u001b[39m\u001b[38;5;124mgoal\u001b[39m\u001b[38;5;124m\"\u001b[39m: goal\n\u001b[1;32m     13\u001b[0m })\n\u001b[1;32m     15\u001b[0m \u001b[38;5;28mprint\u001b[39m(\u001b[38;5;124m\"\u001b[39m\u001b[38;5;124mSKILLS OUTPUT (JSON):\u001b[39m\u001b[38;5;124m\"\u001b[39m)\n\u001b[1;32m     16\u001b[0m \u001b[38;5;28mprint\u001b[39m(skills_output)\n",
      "\u001b[0;31mNameError\u001b[0m: name 'skills_chain' is not defined"
     ]
    }
   ],
   "source": [
    "# Example user info\n",
    "person_info = \"\"\"\n",
    "- Currently knows basic HTML.\n",
    "- Some background in CSS but never used frameworks.\n",
    "- Comfortable with simple JavaScript.\n",
    "\"\"\"\n",
    "goal = \"I want to build a modern, responsive website with user authentication and a backend.\"\n",
    "\n",
    "# Call the skills extraction chain\n",
    "skills_output = skills_chain.run({\n",
    "    \"person_info\": person_info,\n",
    "    \"goal\": goal\n",
    "})\n",
    "\n",
    "print(\"SKILLS OUTPUT (JSON):\")\n",
    "print(skills_output)\n"
   ]
  },
  {
   "cell_type": "code",
   "execution_count": 8,
   "metadata": {},
   "outputs": [
    {
     "ename": "NameError",
     "evalue": "name 'skills_output' is not defined",
     "output_type": "error",
     "traceback": [
      "\u001b[0;31m---------------------------------------------------------------------------\u001b[0m",
      "\u001b[0;31mNameError\u001b[0m                                 Traceback (most recent call last)",
      "Cell \u001b[0;32mIn[8], line 3\u001b[0m\n\u001b[1;32m      1\u001b[0m \u001b[38;5;28;01mimport\u001b[39;00m\u001b[38;5;250m \u001b[39m\u001b[38;5;21;01mjson\u001b[39;00m\n\u001b[0;32m----> 3\u001b[0m parsed_skills \u001b[38;5;241m=\u001b[39m json\u001b[38;5;241m.\u001b[39mloads(\u001b[43mskills_output\u001b[49m)\n\u001b[1;32m      4\u001b[0m skills_data \u001b[38;5;241m=\u001b[39m parsed_skills\u001b[38;5;241m.\u001b[39mget(\u001b[38;5;124m\"\u001b[39m\u001b[38;5;124mskills\u001b[39m\u001b[38;5;124m\"\u001b[39m, [])\n\u001b[1;32m      6\u001b[0m full_plan \u001b[38;5;241m=\u001b[39m []\n",
      "\u001b[0;31mNameError\u001b[0m: name 'skills_output' is not defined"
     ]
    }
   ],
   "source": [
    "import json\n",
    "\n",
    "parsed_skills = json.loads(skills_output)\n",
    "skills_data = parsed_skills.get(\"skills\", [])\n",
    "\n",
    "full_plan = []\n",
    "\n",
    "for skill_item in skills_data:\n",
    "    skill_name = skill_item[\"skill\"]\n",
    "    \n",
    "    resources_output = resources_chain.run({\"skill_name\": skill_name})\n",
    "    try:\n",
    "        resources_recommended = json.loads(resources_output)\n",
    "    except:\n",
    "        resources_recommended = [{\"error\": \"Could not parse resources\"}]\n",
    "    \n",
    "    # Combine skill info and resource recommendations\n",
    "    plan_entry = {\n",
    "        \"skill\": skill_name,\n",
    "        \"subskills\": skill_item.get(\"subskills\", []),\n",
    "        \"rationale\": skill_item.get(\"rationale\", \"\"),\n",
    "        \"resources\": resources_recommended\n",
    "    }\n",
    "    full_plan.append(plan_entry)\n",
    "\n",
    "print(\"FULL PLAN:\")\n",
    "print(json.dumps(full_plan, indent=2))\n"
   ]
  }
 ],
 "metadata": {
  "kernelspec": {
   "display_name": "TestVenv",
   "language": "python",
   "name": "python3"
  },
  "language_info": {
   "codemirror_mode": {
    "name": "ipython",
    "version": 3
   },
   "file_extension": ".py",
   "mimetype": "text/x-python",
   "name": "python",
   "nbconvert_exporter": "python",
   "pygments_lexer": "ipython3",
   "version": "3.9.6"
  }
 },
 "nbformat": 4,
 "nbformat_minor": 2
}
